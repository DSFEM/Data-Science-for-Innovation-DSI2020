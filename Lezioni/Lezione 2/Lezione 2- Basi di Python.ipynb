{
 "cells": [
  {
   "cell_type": "code",
   "execution_count": null,
   "metadata": {},
   "outputs": [],
   "source": [
    "# Lezione 2: Basi di Python"
   ]
  },
  {
   "cell_type": "markdown",
   "metadata": {},
   "source": [
    "## 0. Cosa vuole dire programmare?\n",
    "\n",
    "**Programmare** è dare al computer una serie di istruzioni passo dopo passo da seguire per eseguire un compito. È molto simile a scrivere una ricetta. \n",
    "\n",
    "Prima di iniziare ad imparare il linguaggio di programmazione Python, parliamo un po' di cosa sia la programmazione.\n",
    "\n",
    "Cosa intendiamo quando parliamo di programmazione?\n",
    "\n",
    "**Un problema da risolvere**<br/>\n",
    "Ogni programma inizia con un problema che si vuole risolvere. Quel problema potrebbe essere semplice come la necessità di fare dei compiti di matematica o complesso come analizzare la diffusione di una malattia\n",
    "\n",
    "**Una soluzione al problema**<br/>\n",
    "La soluzione a questo problema viene definita come un algoritmo (e ne parleremo ancora tra qualche minuto).\n",
    "\n",
    "**La soluzione tradotta in un linguaggio informatico**<br/>\n",
    "E infine, questa soluzione viene tradotta in un linguaggio di programmazione, come Python, che il computer può comprendere.\n",
    "Quel pacchetto di codice che viene eseguito su un computer si chiama **programma.**\n",
    "\n",
    "***"
   ]
  },
  {
   "cell_type": "markdown",
   "metadata": {},
   "source": [
    "## 1. I comandi di Jupyter Notebook\n",
    "\n",
    "- Se si preme alternativamente <kbd>Esc</kbd> e <kbd>Return</kbd>, il bordo esterno della cella di codifica passa dal grigio al blu.\n",
    "- Questi sono i modi *Command* (grigio) e *Edit* (blu) del vostro notebook.\n",
    "- Il modo *Command* consente di modificare le funzioni a livello di notebook, mentre il modo *Edit* modifica il contenuto delle celle.\n",
    "- Quando siete nel modo Comando (esc/grigio),\n",
    "    - Il tasto <kbd>b</kbd> crea una nuova cella al di sotto della cella attualmente selezionata.\n",
    "    - Il tasto <kbd>a</kbd> ne farà una sopra.\n",
    "    - Il tasto <kbd>x</kbd> cancellerà la cella corrente.\n",
    "    - Il tasto <kbd>z</kbd> annulla l'ultima operazione della cella (che potrebbe essere una cancellazione, creazione, ecc.).\n",
    "- Tutte le azioni possono essere fatte usando i menu, ma ci sono molte scorciatoie da tastiera per velocizzare le cose.\n",
    "\n",
    "### 1.1 Utilizzare la tastiera e il mouse per selezionare e modificare le celle.\n",
    "- Premendo il tasto <kbd>Return</kbd>, il bordo diventa blu e si attiva la modalità Edit, che permette di digitare all'interno della cella.\n",
    "- Poiché vogliamo essere in grado di scrivere molte righe di codice in una singola cella, premendo il tasto <kbd>Return</kbd> quando siamo in modalità Edit (blu) il cursore si sposta sulla riga successiva della cella, proprio come in un editor di testo.\n",
    "- Abbiamo bisogno di un altro modo per dire al Quaderno che vogliamo eseguire quello che c'è nella cella.\n",
    "- Premendo insieme <kbd>Shift</kbd>+<kbd>Return</kbd> si esegue il contenuto della cella.\n",
    "- Notate che i tasti <kbd>Return</kbd> e <kbd>Shift</kbd> sulla destra della tastiera sono proprio uno accanto all'altro.\n"
   ]
  },
  {
   "cell_type": "markdown",
   "metadata": {},
   "source": [
    "### 1.2 Usare Python come una calcolatrice"
   ]
  },
  {
   "cell_type": "markdown",
   "metadata": {},
   "source": [
    "#### 1.2a Numeri\n",
    "I numeri sono principalmente di due tipi: **interi** (*integers*) e **virgola mobile** (*floats*).\n",
    "\n",
    "Un esempio di un intero è 2 che è solo un numero intero.\n",
    "\n",
    "Esempi di numeri a virgola mobile (o float per abbreviare) sono 3.23 e 52.3E-4. La notazione E indica potenze di 10. In questo caso, 52.3E-4 significa 52.3 * 10^-4^.\n",
    "\n",
    "Con Python si possono eseguire diverse operazioni matematica, come una semplice addizione o sottrazione"
   ]
  },
  {
   "cell_type": "code",
   "execution_count": null,
   "metadata": {},
   "outputs": [],
   "source": [
    "2+2"
   ]
  },
  {
   "cell_type": "markdown",
   "metadata": {},
   "source": [
    "La divisione (/) restituisce sempre un float. Per fare la divisione di piano e ottenere un risultato intero (scartando qualsiasi risultato frazionario) si può usare l'operatore //; per calcolare il resto si può usare %:\n"
   ]
  },
  {
   "cell_type": "code",
   "execution_count": null,
   "metadata": {},
   "outputs": [],
   "source": [
    "17 / 3 # divisione classica restituisce un float\n",
    "5.666666666666667"
   ]
  },
  {
   "cell_type": "code",
   "execution_count": null,
   "metadata": {},
   "outputs": [],
   "source": [
    "17 // 3 # divisione piano scarta la parte frazionaria\n",
    "5"
   ]
  },
  {
   "cell_type": "code",
   "execution_count": null,
   "metadata": {},
   "outputs": [],
   "source": [
    "17 % 3 # l'operatore % restituisce il resto della divisione\n",
    "2"
   ]
  },
  {
   "cell_type": "code",
   "execution_count": null,
   "metadata": {},
   "outputs": [],
   "source": [
    "5 * 3 * 3 + 2 # risultato * divisore + resto\n",
    "17"
   ]
  },
  {
   "cell_type": "markdown",
   "metadata": {},
   "source": [
    "Con Python, è possibile utilizzare l'operatore ** per calcolare le potenze di un numero:\n"
   ]
  },
  {
   "cell_type": "code",
   "execution_count": null,
   "metadata": {},
   "outputs": [],
   "source": [
    "5 ** 2  # 5 quadrato"
   ]
  },
  {
   "cell_type": "code",
   "execution_count": null,
   "metadata": {},
   "outputs": [],
   "source": [
    "2 ** 7 # 2 alla potenza di 7"
   ]
  },
  {
   "cell_type": "markdown",
   "metadata": {},
   "source": [
    "***"
   ]
  },
  {
   "cell_type": "markdown",
   "metadata": {},
   "source": [
    "## 2. Variabili e assegnazioni"
   ]
  },
  {
   "cell_type": "markdown",
   "metadata": {},
   "source": [
    "### 2.1 Utilizzare le variabili per salvare i valori.\n"
   ]
  },
  {
   "cell_type": "markdown",
   "metadata": {},
   "source": [
    "- Utilizzare le variabili per memorizzare i valori\n",
    "- Variabili sono nomi per i valori.\n",
    "- In Python il simbolo <kbd>=</kbd> assegna il valore a destra al nome a sinistra.\n",
    "- La variabile viene creata quando le viene assegnato un valore.\n",
    "- Qui Python assegna un'età ad una variabile **age** e un nome tra virgolette ad una variabile **first_name**.\n"
   ]
  },
  {
   "cell_type": "code",
   "execution_count": null,
   "metadata": {},
   "outputs": [],
   "source": [
    "# assegna un valore a age e first_name\n",
    "age = XXXX\n",
    "first_name = 'XXXX'"
   ]
  },
  {
   "cell_type": "markdown",
   "metadata": {},
   "source": [
    "- Nomi delle variabili\n",
    "    - può contenere solo lettere, cifre e underscore <span style=\"background-color: #D3D3D3\">_</span> (tipicamente usato per separare le parole in nomi di variabili lunghe) \n",
    "    - non può iniziare con una cifra\n",
    "    - sono sensibili ai casi (age, Age ed AGE sono tre diverse variabili)"
   ]
  },
  {
   "cell_type": "markdown",
   "metadata": {},
   "source": [
    "### 2.2 Usare <span style=\"background-color: #D3D3D3\">Print</span> per visualizzare i valori "
   ]
  },
  {
   "cell_type": "markdown",
   "metadata": {},
   "source": [
    "- Python ha una funzione incorporata chiamata <span style=\"background-color: #D3D3D3\">Print</span> che stampa le cose come testo.\n",
    "- Chiamate la funzione (cioè dite a Python di eseguirla) usando il suo nome.\n",
    "- Fornire i valori alla funzione (cioè le cose da stampare) tra parentesi.\n",
    "- Per aggiungere una stringa alla stampa, avvolgere la stringa tra virgolette singole o doppie.\n",
    "- I valori passati alla funzione sono chiamati **arguments**\n",
    "\n"
   ]
  },
  {
   "cell_type": "code",
   "execution_count": null,
   "metadata": {},
   "outputs": [],
   "source": [
    "print(first_name, 'is', age, 'years old')"
   ]
  },
  {
   "cell_type": "markdown",
   "metadata": {},
   "source": [
    "### 2.3 Bisogna creare le variabili prima di utilizzarle\n",
    "\n",
    "Se una variabile non esiste ancora, o se il nome è stato scritto male, Python segnala un errore."
   ]
  },
  {
   "cell_type": "code",
   "execution_count": null,
   "metadata": {},
   "outputs": [],
   "source": [
    "# cosa succede se lanci questo codice?\n",
    "print(last_name)"
   ]
  },
  {
   "cell_type": "markdown",
   "metadata": {},
   "source": [
    "#### NB: Le variabili persistono tra le celle\n",
    "\n",
    "Ricordatevi che è l'ordine di esecuzione delle celle che è importante in Jupyter, non l'ordine in cui appaiono. Python ricorderà tutto il codice che è stato eseguito in precedenza, comprese le variabili che avete definito, indipendentemente dall'ordine nel notebook. Pertanto, se si definiscono le variabili più in basso nel notebook e poi si (ri)eseguono le celle più in alto, quelle definite più in basso saranno ancora presenti. A titolo di esempio, create due celle con il seguente contenuto, in questo ordine:"
   ]
  },
  {
   "cell_type": "code",
   "execution_count": null,
   "metadata": {},
   "outputs": [],
   "source": [
    "# esegui questa cella, poi quella dopo e poi di nuovo questa, cosa succede?"
   ]
  },
  {
   "cell_type": "code",
   "execution_count": null,
   "metadata": {},
   "outputs": [],
   "source": [
    "print(db1)"
   ]
  },
  {
   "cell_type": "code",
   "execution_count": null,
   "metadata": {},
   "outputs": [],
   "source": [
    "db1 = 10"
   ]
  },
  {
   "cell_type": "markdown",
   "metadata": {},
   "source": [
    "### 2.4 Index: Utilizzare un indice per ottenere un singolo carattere da una stringa."
   ]
  },
  {
   "cell_type": "markdown",
   "metadata": {},
   "source": [
    "- I caratteri (singole lettere, numeri e così via) in una stringa sono ordinati. Ad esempio, la stringa 'AB' non è la stessa di 'BA'. A causa di questo ordine, possiamo trattare la stringa come un elenco di caratteri.\n",
    "- Ad ogni posizione della stringa (prima, seconda, ecc.) viene assegnato un numero. Questo numero è chiamato <span style=\"background-color: #D3D3D3\">Index</span>.\n",
    "- Gli indici sono numerati a partire da 0.\n",
    "- Utilizzate l'indice della posizione tra parentesi quadre per ottenere il carattere in quella posizione."
   ]
  },
  {
   "cell_type": "markdown",
   "metadata": {},
   "source": [
    "![Marte](marte.png)"
   ]
  },
  {
   "cell_type": "code",
   "execution_count": null,
   "metadata": {},
   "outputs": [],
   "source": [
    "nome_pianeta = 'marte'\n",
    "print(nome_pianeta[0])"
   ]
  },
  {
   "cell_type": "markdown",
   "metadata": {},
   "source": [
    "#### 2.5 Utilizzare <span style=\"background-color: #D3D3D3\">Slice</span>  per ottenere una sottostringa."
   ]
  },
  {
   "cell_type": "markdown",
   "metadata": {},
   "source": [
    "- Una parte di una stringa è chiamata <span style=\"background-color: #D3D3D3\">substring</span>. Una substring può essere corta come un singolo carattere.\n",
    "- Un elemento di una lista è chiamato **element / elemento**. Ogni volta che trattiamo una stringa come se fosse una lista, gli elementi della stringa sono i suoi singoli caratteri.\n",
    "- Una <span style=\"background-color: #D3D3D3\">slice / fetta</span> è una parte di una stringa \n",
    "- Prendiamo una slice usando <span style=\"background-color: #D3D3D3\">[start:stop]</span>, dove <span style=\"background-color: #D3D3D3\">start</span> viene sostituito con l'indice del primo elemento che vogliamo e <span style=\"background-color: #D3D3D3\">stop</span> viene sostituito con l'indice dell'elemento subito dopo l'ultimo elemento che vogliamo.\n",
    "- Matematicamente, si potrebbe dire che slice seleziona <span style=\"background-color: #D3D3D3\">[start:stop]</span>.\n",
    "- La differenza tra <span style=\"background-color: #D3D3D3\">stop</span>  e <span style=\"background-color: #D3D3D3\">start</span> è la lunghezza della slice.\n",
    "- Prendere una slice non cambia il contenuto della stringa originale. Al contrario, la slice è una copia di parte della stringa originale."
   ]
  },
  {
   "cell_type": "code",
   "execution_count": null,
   "metadata": {},
   "outputs": [],
   "source": [
    "nome_pianeta = 'nettuno'\n",
    "print(nome_pianeta[3:7])"
   ]
  },
  {
   "cell_type": "code",
   "execution_count": null,
   "metadata": {},
   "outputs": [],
   "source": [
    "nome_atomo = 'sodio'\n",
    "print(nome_atomo[0:3])"
   ]
  },
  {
   "cell_type": "markdown",
   "metadata": {},
   "source": [
    "Utilizzare la funzione integrata <span style=\"background-color: #D3D3D3\">len</span> per trovare la lunghezza di una stringa.\n"
   ]
  },
  {
   "cell_type": "code",
   "execution_count": null,
   "metadata": {},
   "outputs": [],
   "source": [
    "print(len('plutone'))"
   ]
  },
  {
   "cell_type": "markdown",
   "metadata": {},
   "source": [
    "***"
   ]
  },
  {
   "cell_type": "markdown",
   "metadata": {},
   "source": [
    "## 3. Sfide: prima parte"
   ]
  },
  {
   "cell_type": "markdown",
   "metadata": {},
   "source": [
    "### 3.1 Scambio di valori"
   ]
  },
  {
   "cell_type": "code",
   "execution_count": null,
   "metadata": {},
   "outputs": [],
   "source": [
    "# Command  # Value of x   # Value of y   # Value of swap #\n",
    "x = 1.0    #              #              #               #\n",
    "y = 3.0    #              #              #               #\n",
    "swap = x   #              #              #               #\n",
    "x = y      #              #              #               #\n",
    "y = swap   #              #              #               #"
   ]
  },
  {
   "cell_type": "code",
   "execution_count": null,
   "metadata": {},
   "outputs": [],
   "source": [
    "# utilizza questa cella per risolvere la sfida 3.1"
   ]
  },
  {
   "cell_type": "markdown",
   "metadata": {},
   "source": [
    "### 3.2 Indovina il valore\n",
    "quale è il valore di `b`?"
   ]
  },
  {
   "cell_type": "code",
   "execution_count": null,
   "metadata": {},
   "outputs": [],
   "source": [
    "a = 'left'\n",
    "b = a\n",
    "a = 'right'"
   ]
  },
  {
   "cell_type": "markdown",
   "metadata": {},
   "source": [
    "### 3.2 Cosa succede? \n",
    "Se si assegna `a = 123`, cosa succede se si cerca di ottenere la seconda cifra di `a` tramite `a[1]`? \n"
   ]
  },
  {
   "cell_type": "code",
   "execution_count": null,
   "metadata": {},
   "outputs": [],
   "source": []
  },
  {
   "cell_type": "markdown",
   "metadata": {},
   "source": [
    "### 3.2 Cosa fa questo codice? "
   ]
  },
  {
   "cell_type": "code",
   "execution_count": null,
   "metadata": {},
   "outputs": [],
   "source": [
    "nome_atomo = 'carbon'\n",
    "print('nome_atomo[1:3] è:', nome_atomo[1:3])"
   ]
  },
  {
   "cell_type": "markdown",
   "metadata": {},
   "source": [
    "### 3.2 Cosa fanno questo codici? \n",
    "1.  What does `thing[low:high]` do?\n",
    "2.  What does `thing[low:]` (without a value after the colon) do?\n",
    "3.  What does `thing[:high]` (without a value before the colon) do?\n",
    "4.  What does `thing[:]` (just a colon) do?\n",
    "5.  What does `thing[number:some-negative-number]` do?\n",
    "6.  What happens when you choose a `high` value which is out of range? (i.e., try `atom_name[0:15]`) "
   ]
  },
  {
   "cell_type": "code",
   "execution_count": null,
   "metadata": {},
   "outputs": [],
   "source": []
  },
  {
   "cell_type": "markdown",
   "metadata": {},
   "source": [
    "### 3.3 Quanti minuti ci sono in un anno? "
   ]
  },
  {
   "cell_type": "code",
   "execution_count": null,
   "metadata": {},
   "outputs": [],
   "source": []
  },
  {
   "cell_type": "markdown",
   "metadata": {},
   "source": [
    "### 3.4 Quanto tempo ci vuole a diventare miliardario?\n",
    "\n",
    "immagina di guadagnare 5000E netti al giorno (no tasse e altri costi), dopo quanti giorni diventerai un miliardario? quanto equivale in anni? "
   ]
  },
  {
   "cell_type": "code",
   "execution_count": null,
   "metadata": {},
   "outputs": [],
   "source": []
  },
  {
   "cell_type": "markdown",
   "metadata": {},
   "source": [
    "***\n",
    "# Pausa\n",
    "***"
   ]
  },
  {
   "cell_type": "markdown",
   "metadata": {},
   "source": [
    "## 4. Tipi di dati e conversione di tipologia\n",
    "\n",
    "### 4.1 Ogni valore ha un tipologia.\n",
    "* Ogni valore di un programma ha un tipo specifico.\n",
    "* Intero (`int`): rappresenta numeri interi positivi o negativi come 3 o -512.\n",
    "* Numero a virgola mobile (float): rappresenta numeri reali come 3.14159 o -2.5.\n",
    "* Stringa di caratteri (di solito chiamata \"stringa\", `str`): testo.\n",
    "    * Scritto tra virgolette singole o doppie (purché corrispondano).\n",
    "    * Le virgolette non vengono stampate quando la stringa viene visualizzata."
   ]
  },
  {
   "cell_type": "markdown",
   "metadata": {},
   "source": [
    "### 4.2 Usare la funzione integrata `type` per trovare il tipo di valore."
   ]
  },
  {
   "cell_type": "markdown",
   "metadata": {},
   "source": [
    "* Usare la funzione incorporata `type` per scoprire che tipologia è un valore.\n",
    "* Funziona anche sulle variabili.\n",
    "    * Ma ricordate: il *valore* ha il tipo --- la *variabile* è solo un'etichetta.\n"
   ]
  },
  {
   "cell_type": "code",
   "execution_count": null,
   "metadata": {},
   "outputs": [],
   "source": [
    "print(type(46))"
   ]
  },
  {
   "cell_type": "code",
   "execution_count": null,
   "metadata": {},
   "outputs": [],
   "source": [
    "cibo = 'pizza'\n",
    "print(type(cibo))"
   ]
  },
  {
   "cell_type": "markdown",
   "metadata": {},
   "source": [
    "### 4.3 I tipi di dati controllano quali operazioni (o metodi) possono essere eseguite su un dato valore.\n",
    "\n",
    "* Il tipo di valore determina ciò che il programma può fare ad esso.\n"
   ]
  },
  {
   "cell_type": "code",
   "execution_count": null,
   "metadata": {},
   "outputs": [],
   "source": [
    "print(5 - 3)"
   ]
  },
  {
   "cell_type": "code",
   "execution_count": null,
   "metadata": {},
   "outputs": [],
   "source": [
    "print('hello' - 'h')"
   ]
  },
  {
   "cell_type": "markdown",
   "metadata": {},
   "source": [
    "### 4.4 Potete usare gli operatori \"+\" e \"*\" sulle stringhe (strings).\n",
    "* L'aggiunta di stringhe di caratteri li concatenano.\n"
   ]
  },
  {
   "cell_type": "code",
   "execution_count": null,
   "metadata": {},
   "outputs": [],
   "source": [
    "nome_completo = 'Lorenzo' + ' ' + 'Andreoli'\n",
    "print(nome_completo)"
   ]
  },
  {
   "cell_type": "markdown",
   "metadata": {},
   "source": [
    "* Moltiplicando una stringa di caratteri per un intero _N_ si crea una nuova stringa che consiste di quella stringa di caratteri ripetuta _N_ volte.\n",
    "    * Poiché la moltiplicazione è un'aggiunta ripetuta."
   ]
  },
  {
   "cell_type": "code",
   "execution_count": null,
   "metadata": {},
   "outputs": [],
   "source": [
    "divisore = '=' * 10\n",
    "print(divisore)"
   ]
  },
  {
   "cell_type": "markdown",
   "metadata": {},
   "source": [
    "### 4.5 Le stringhe hanno una lunghezza (ma i numeri no).\n",
    "* La funzione integrata `len` conta il numero di caratteri di una stringa."
   ]
  },
  {
   "cell_type": "code",
   "execution_count": null,
   "metadata": {},
   "outputs": [],
   "source": [
    "print(len(nome_completo))"
   ]
  },
  {
   "cell_type": "markdown",
   "metadata": {},
   "source": [
    "* Ma i numeri non hanno una lunghezza (nemmeno zero)."
   ]
  },
  {
   "cell_type": "code",
   "execution_count": null,
   "metadata": {},
   "outputs": [],
   "source": [
    "print(len(52))"
   ]
  },
  {
   "cell_type": "markdown",
   "metadata": {},
   "source": [
    "### 4.6 Devi convertire i numeri in stringhe o viceversa quando operi su di esse.\n",
    "* Non è possibile aggiungere numeri e stringhe.\n"
   ]
  },
  {
   "cell_type": "code",
   "execution_count": null,
   "metadata": {},
   "outputs": [],
   "source": [
    "print(1 + '2')\n"
   ]
  },
  {
   "cell_type": "markdown",
   "metadata": {},
   "source": [
    "* Non è permesso perché è ambiguo: 1 + '2' `1 + '2' `3' o `'12''?\n",
    "* Alcuni tipi possono essere convertiti in altri tipi usando il nome del tipo come funzione."
   ]
  },
  {
   "cell_type": "code",
   "execution_count": null,
   "metadata": {},
   "outputs": [],
   "source": [
    "print(1 + int('2'))\n",
    "print(str(1) + '2')"
   ]
  },
  {
   "cell_type": "markdown",
   "metadata": {},
   "source": [
    "### 4.7 Può mescolare interi e galleggianti liberamente nelle operazioni.\n",
    "\n",
    "* I numeri interi e i numeri a virgola mobile possono essere mescolati in aritmetica.\n",
    "    * Python 3 converte automaticamente gli interi in numeri fluttuanti a seconda delle necessità. (La divisione intera in Python 2 restituirà un intero, il *pavimento* della divisione)."
   ]
  },
  {
   "cell_type": "code",
   "execution_count": null,
   "metadata": {},
   "outputs": [],
   "source": [
    "print('half is', 1 / 2.0)\n",
    "print('three squared is', 3.0 ** 2)"
   ]
  },
  {
   "cell_type": "markdown",
   "metadata": {},
   "source": [
    "### 4.8 Le variabili cambiano valore solo quando viene loro assegnato qualcosa.\n",
    "* Se facciamo dipendere una cella di un foglio di calcolo da un'altra, e aggiornare quest'ultimo, i precedenti si aggiornano automaticamente.\n",
    "* Questo non avviene nei linguaggi di programmazione.\n"
   ]
  },
  {
   "cell_type": "code",
   "execution_count": null,
   "metadata": {},
   "outputs": [],
   "source": [
    "first = 1\n",
    "second = 5 * first\n",
    "first = 2\n",
    "print('first is', first, 'and second is', second)"
   ]
  },
  {
   "cell_type": "markdown",
   "metadata": {},
   "source": [
    "* Il computer legge il valore di \"prima\" quando fa la moltiplicazione,\n",
    "    crea un nuovo valore e lo assegna al \"secondo\".\n",
    "* Dopo di che, `secondo` non ricorda da dove viene."
   ]
  },
  {
   "cell_type": "markdown",
   "metadata": {},
   "source": [
    "### 4.9 Riassunto delle tipologie di Variabili"
   ]
  },
  {
   "cell_type": "markdown",
   "metadata": {},
   "source": [
    "| **Variable Type** | **Definition**   | **Examples** |\n",
    "|------|------|------|\n",
    "|   Integer  |Positive and negative whole numbers|42, -10, 0|\n",
    "|   Double  |Positive and negative decimal numbers|73.9, 2.4, 0.0|\n",
    "|   String  |Sequence of characters|\"Come va?\", \"variabili\"|\n",
    "|   Boolean  |True or false value|True, False|\n",
    "\n",
    "\n",
    "***"
   ]
  },
  {
   "cell_type": "markdown",
   "metadata": {},
   "source": [
    "## 5. Le Funzioni\n",
    "\n",
    "Finora avete imparato ad eseguire operazioni di base sui vostri input e ad assegnare variabili a determinati valori. Ora cerchiamo di essere più efficienti.\n",
    "\n",
    "Diciamo che vogliamo eseguire una certa operazione su molti ingressi diversi che produrranno uscite distinte. Cosa facciamo? Scriviamo una ***funzione*** (function).\n",
    "\n",
    "Una funzione è un blocco di codice che funziona come una macchina: prende un ingresso/input, gli fa qualcosa e produce un'uscita/output.\n",
    "\n",
    "L'input viene messo tra parentesi e può anche essere chiamato *argomento o parametro*. Le funzioni possono avere più argomenti.\n",
    "\n",
    "Provate ad eseguire la cella sottostante dopo aver cambiato il nome della variabile:"
   ]
  },
  {
   "cell_type": "code",
   "execution_count": 44,
   "metadata": {},
   "outputs": [
    {
     "data": {
      "text/plain": [
       "'Hello Lorenzo Andreoli!'"
      ]
     },
     "execution_count": 44,
     "metadata": {},
     "output_type": "execute_result"
    }
   ],
   "source": [
    "# Cambia la cella con il tuo nome\n",
    "name = \"Lorenzo Andreoli\"\n",
    "\n",
    "# La funzione\n",
    "def hello(name):\n",
    "    return \"Hello \" + name + \"!\"\n",
    "\n",
    "hello(name)"
   ]
  },
  {
   "cell_type": "markdown",
   "metadata": {},
   "source": [
    "Immagina di volere scrivere un messaggio personalizzato per ogni persona in questa stanza. Basta scrivere una funzione che faccia tutto il lavoro per noi!\n",
    "\n",
    "Le funzioni sono molto utili nella programmazione perché aiutano a scrivere codice più breve e più modulare. Un buon esempio a cui pensare è la funzione di `print`. Prende molti input diversi ed esegue il compito specificato, stampando il suo input, in modo semplice.\n",
    "\n",
    "Ora, scriviamo la nostra funzione. Vediamo le seguenti regole:\n",
    "\n",
    "**Definizione/Defining** \n",
    "* Tutte le funzioni devono iniziare con la parola chiave \"def\".\n",
    "* Tutte le funzioni devono avere un nome, seguito da una parentesi, seguito da un punto e virgola. Es.  **def hello( ):**\n",
    "* Le parentesi possono avere una variabile che memorizza i suoi argomenti (input)\n",
    "* Tutte le funzioni devono avere una dichiarazione di \"ritorno\" che restituisca l'uscita. Pensate ad una funzione come ad una macchina. Quando si mette dentro qualcosa, si vuole che restituisca qualcosa. Quindi, questo è molto importante.\n",
    "\n",
    "**Chiamare/Calling**\n",
    "\n",
    "Dopo aver definito una funzione, è il momento di utilizzarla. Questo si chiama *chiamare* una funzione.\n",
    "\n",
    "Per chiamare una funzione, scrivete semplicemente il nome della funzione con la vostra variabile di ingresso tra parentesi (argomento)."
   ]
  },
  {
   "cell_type": "code",
   "execution_count": 45,
   "metadata": {},
   "outputs": [
    {
     "ename": "SyntaxError",
     "evalue": "invalid syntax (<ipython-input-45-f588b7e91c0f>, line 2)",
     "output_type": "error",
     "traceback": [
      "\u001b[0;36m  File \u001b[0;32m\"<ipython-input-45-f588b7e91c0f>\"\u001b[0;36m, line \u001b[0;32m2\u001b[0m\n\u001b[0;31m    def #nome_funzione(argument): #dai un nome alla tua funzione\u001b[0m\n\u001b[0m                                                                ^\u001b[0m\n\u001b[0;31mSyntaxError\u001b[0m\u001b[0;31m:\u001b[0m invalid syntax\n"
     ]
    }
   ],
   "source": [
    "# Completa questa funzione\n",
    "def #nome_funzione(argument): #dai un nome alla tua funzione\n",
    "    return # le funzioni devono ritornare un valore\n",
    "\n",
    "# Chiamiamo la nostra prima funzione...\n",
    "#nome_funzione(\"\")"
   ]
  },
  {
   "cell_type": "code",
   "execution_count": null,
   "metadata": {},
   "outputs": [],
   "source": [
    "# scrivi una funzione che ritorna il quadrato di qualsiasi numero\n"
   ]
  },
  {
   "cell_type": "code",
   "execution_count": 40,
   "metadata": {},
   "outputs": [
    {
     "ename": "NameError",
     "evalue": "name 'radice' is not defined",
     "output_type": "error",
     "traceback": [
      "\u001b[0;31m---------------------------------------------------------------------------\u001b[0m",
      "\u001b[0;31mNameError\u001b[0m                                 Traceback (most recent call last)",
      "\u001b[0;32m<ipython-input-40-01593fbbcd1c>\u001b[0m in \u001b[0;36m<module>\u001b[0;34m\u001b[0m\n\u001b[0;32m----> 1\u001b[0;31m \u001b[0mradice\u001b[0m\u001b[0;34m(\u001b[0m\u001b[0;36m5\u001b[0m\u001b[0;34m)\u001b[0m\u001b[0;34m\u001b[0m\u001b[0;34m\u001b[0m\u001b[0m\n\u001b[0m",
      "\u001b[0;31mNameError\u001b[0m: name 'radice' is not defined"
     ]
    }
   ],
   "source": [
    "quadrato(5)"
   ]
  },
  {
   "cell_type": "markdown",
   "metadata": {},
   "source": [
    "congratulazioni hai appena scritto da zero la tua prima funzione!\n",
    "***"
   ]
  },
  {
   "cell_type": "markdown",
   "metadata": {},
   "source": [
    "## 6. Ambito di applicazione / Scope\n",
    "\n",
    "La programmazione è ottima ma a volte può anche essere piuttosto particolare. Per esempio, ogni variabile definita al di fuori di qualsiasi funzione di default, è globale. Cosa vuol dire?\n",
    "\n",
    "Provate ad eseguire il codice qui sotto:"
   ]
  },
  {
   "cell_type": "code",
   "execution_count": 51,
   "metadata": {},
   "outputs": [
    {
     "data": {
      "text/plain": [
       "'Hi Harry Potter, nice to meet you!'"
      ]
     },
     "execution_count": 51,
     "metadata": {},
     "output_type": "execute_result"
    }
   ],
   "source": [
    "# Global Variable - name\n",
    "name = \"Harry Potter\"\n",
    "\n",
    "# our function\n",
    "def salutation(name):\n",
    "    return \"Hi \" + name + \", nice to meet you!\"\n",
    "\n",
    "# calling our function\n",
    "salutation(name)\n",
    "\n",
    "# un-comment the line below\n",
    "#salutation(\"Roonald Wazlib\")"
   ]
  },
  {
   "cell_type": "markdown",
   "metadata": {},
   "source": [
    "Anche se il vostro argomento è stato chiamato *name*, non ha prodotto Harry Potter, che era il valore globale della variabile chiamata *name*. Invece, ha dato la preferenza al valore locale che è stato dato alla funzione come argomento, Roonald Wazlib.\n",
    "\n",
    "Pensatelo come se riempisse la vostra caffettiera (funzione) di caffè (variabile). Se avete una variabile con accesso **globale** chiamata *name* che è riempita di caffè chiamata *Harry Potter*, potete scegliere di fare una delle due cose:\n",
    "\n",
    "1) Non inserite un altro valore nella vostra funzione. (Utilizzate lo stesso nome della variabile **globale** come argomento)\n",
    "\n",
    "In questo caso, verrà comunque utilizzato il tipo di caffè **globale**.\n",
    "\n",
    "2) Scegliere di riempire un altro valore. In questo caso la vostra funzione assegnerà il valore che passerete come argomento alla \"variabile\" che è l'argomento.\n",
    "\n",
    "Pensatelo come se sovrascriveste il vostro caffè **globale** e mettete un nuovo tipo di caffè nella vostra caffettiera."
   ]
  },
  {
   "cell_type": "code",
   "execution_count": 60,
   "metadata": {},
   "outputs": [
    {
     "data": {
      "text/plain": [
       "35"
      ]
     },
     "execution_count": 60,
     "metadata": {},
     "output_type": "execute_result"
    }
   ],
   "source": [
    "# Scope Puzzle!\n",
    "x = 5\n",
    "y = 6\n",
    "z = 7\n",
    "\n",
    "def puzzle(x, z):\n",
    "    return x * z\n",
    "\n",
    "# fill in this function call\n",
    "puzzle()\n"
   ]
  },
  {
   "cell_type": "markdown",
   "metadata": {},
   "source": [
    "# congratulazioni! tana per tutti! "
   ]
  }
 ],
 "metadata": {
  "kernelspec": {
   "display_name": "Python 3",
   "language": "python",
   "name": "python3"
  },
  "language_info": {
   "codemirror_mode": {
    "name": "ipython",
    "version": 3
   },
   "file_extension": ".py",
   "mimetype": "text/x-python",
   "name": "python",
   "nbconvert_exporter": "python",
   "pygments_lexer": "ipython3",
   "version": "3.7.4"
  }
 },
 "nbformat": 4,
 "nbformat_minor": 4
}
