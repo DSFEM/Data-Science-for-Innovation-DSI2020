{
 "cells": [
  {
   "cell_type": "markdown",
   "metadata": {},
   "source": [
    "# Lezione 1 - Exploratory Data Analysis on Haberman's Cancer Survival\n",
    "*Lorenzo Andreoli, Corso Data Science, Febbraio 2020*\n",
    "\n",
    "*Qui trovate l'articolo originale in inglese di [Deepthi A R](https://www.linkedin.com/posts/sahil-deo_ai-xai-algorithmic-activity-6628183838155657216-FXq1)*\n",
    "\n",
    "## Che cosa è una *Exploratory Data Analysis*?\n"
   ]
  },
  {
   "cell_type": "markdown",
   "metadata": {},
   "source": [
    "L'analisi esplorativa dei dati o ***Exploratory Data Analysis*** è un termine coniato da [John Turkey](https://it.wikipedia.org/wiki/John_Wilder_Tukey), un importante statistico americano del XX secolo, per definire un approcio all'analisi di insiemi di dati per riassumere le loro caratteristiche principali, spesso utilizzando metodi visivi (***data visualization***).\n",
    "\n",
    "Principalmente l'EDA serve a vedere ciò che i dati possono dirci al di là del compito formale di modellazione o di verifica delle ipotesi.\n",
    "\n",
    "È sempre una buona idea esplorare un insieme di dati con tecniche esplorative multiple, soprattutto quando possono essere fatte insieme per il confronto. L'obiettivo dell'analisi esplorativa dei dati è quello di ottenere la fiducia nei propri dati al fine di assicurarsi l'accuratezza necessaria per sviluppare modelli d'analisi più complessi (es: machine learning). Un altro vantaggio collaterale di EDA è quello di perfezionare la selezione delle variabili delle caratteristiche che saranno utilizzate in seguito per l'apprendimento automatico.\n",
    "\n"
   ]
  },
  {
   "cell_type": "markdown",
   "metadata": {},
   "source": [
    "## Perché è importante fare l'analisi esplorativa?\n",
    "\n",
    "Cercare di creari modelli d'analisi complessi senza avere studiato e capito bene il dataset è un grave errore con molte implicazioni, tra cui la generazione di modelli imprecisi, la generazione di modelli accurati ma sui dati sbagliati, la mancata creazione dei giusti tipi di variabili nella preparazione dei dati, e l'uso inefficiente delle risorse a causa del fatto di rendersi conto solo dopo aver generato modelli che forse i dati sono distorti, o hanno valori erratici, o hanno troppi valori mancanti, o scoprire che alcuni valori sono incoerenti."
   ]
  },
  {
   "cell_type": "markdown",
   "metadata": {},
   "source": [
    "# Il Dataset\n",
    "\n",
    "## Parte 1: Capire il Dataset\n",
    "\n",
    "**Titolo:** Dati sulla sopravvivenza di Haberman\n",
    "\n",
    "**Descrizione:** Il dataset contiene casi tratti da uno studio condotto tra il 1958 e il 1970 al Billings Hospital dell'Università di Chicago sulla sopravvivenza delle pazienti che si erano sottoposte ad un intervento chirurgico per il cancro al seno.\n",
    "\n",
    "**Informazioni sugli attributi:**\n",
    "- Età della paziente al momento dell'operazione (numerica)\n",
    "- Anno di funzionamento del paziente (anno - 1900, numerico)\n",
    "- Numero di nodi ascellari positivi rilevati (numerico)\n",
    "\n",
    "**Stato di sopravvivenza (attributo di classe) :**\n",
    "- 1 = il paziente è sopravvissuto per 5 anni o più\n",
    "- 2 = il paziente è morto entro 5 anni"
   ]
  },
  {
   "cell_type": "markdown",
   "metadata": {},
   "source": [
    "## Parte 2: Importazione di librerie e caricamento del file\n",
    "\n",
    "Per prima cosa bisogna assicuarsi di caricare le ***\"libraries\"*** che ci permettono di analizzare il dataset \n"
   ]
  },
  {
   "cell_type": "code",
   "execution_count": 82,
   "metadata": {},
   "outputs": [],
   "source": [
    "import pandas as pd\n",
    "import seaborn as sns\n",
    "import matplotlib.pyplot as plt\n",
    "import numpy as np"
   ]
  },
  {
   "cell_type": "code",
   "execution_count": 83,
   "metadata": {},
   "outputs": [
    {
     "data": {
      "text/html": [
       "<div>\n",
       "<style scoped>\n",
       "    .dataframe tbody tr th:only-of-type {\n",
       "        vertical-align: middle;\n",
       "    }\n",
       "\n",
       "    .dataframe tbody tr th {\n",
       "        vertical-align: top;\n",
       "    }\n",
       "\n",
       "    .dataframe thead th {\n",
       "        text-align: right;\n",
       "    }\n",
       "</style>\n",
       "<table border=\"1\" class=\"dataframe\">\n",
       "  <thead>\n",
       "    <tr style=\"text-align: right;\">\n",
       "      <th></th>\n",
       "      <th>age</th>\n",
       "      <th>year</th>\n",
       "      <th>nodes</th>\n",
       "      <th>status</th>\n",
       "    </tr>\n",
       "  </thead>\n",
       "  <tbody>\n",
       "    <tr>\n",
       "      <th>0</th>\n",
       "      <td>30</td>\n",
       "      <td>64</td>\n",
       "      <td>1</td>\n",
       "      <td>1</td>\n",
       "    </tr>\n",
       "    <tr>\n",
       "      <th>1</th>\n",
       "      <td>30</td>\n",
       "      <td>62</td>\n",
       "      <td>3</td>\n",
       "      <td>1</td>\n",
       "    </tr>\n",
       "    <tr>\n",
       "      <th>2</th>\n",
       "      <td>30</td>\n",
       "      <td>65</td>\n",
       "      <td>0</td>\n",
       "      <td>1</td>\n",
       "    </tr>\n",
       "    <tr>\n",
       "      <th>3</th>\n",
       "      <td>31</td>\n",
       "      <td>59</td>\n",
       "      <td>2</td>\n",
       "      <td>1</td>\n",
       "    </tr>\n",
       "    <tr>\n",
       "      <th>4</th>\n",
       "      <td>31</td>\n",
       "      <td>65</td>\n",
       "      <td>4</td>\n",
       "      <td>1</td>\n",
       "    </tr>\n",
       "  </tbody>\n",
       "</table>\n",
       "</div>"
      ],
      "text/plain": [
       "   age  year  nodes  status\n",
       "0   30    64      1       1\n",
       "1   30    62      3       1\n",
       "2   30    65      0       1\n",
       "3   31    59      2       1\n",
       "4   31    65      4       1"
      ]
     },
     "execution_count": 83,
     "metadata": {},
     "output_type": "execute_result"
    }
   ],
   "source": [
    "#reading the csv file\n",
    "haber = pd.read_csv('haberman.csv', header=None, names=['age', 'year', 'nodes', 'status'])\n",
    "haber.head()"
   ]
  },
  {
   "cell_type": "markdown",
   "metadata": {},
   "source": [
    "## Parte 3: Capire i dati"
   ]
  },
  {
   "cell_type": "code",
   "execution_count": 84,
   "metadata": {},
   "outputs": [
    {
     "data": {
      "text/plain": [
       "(306, 4)"
      ]
     },
     "execution_count": 84,
     "metadata": {},
     "output_type": "execute_result"
    }
   ],
   "source": [
    "#prints the number of rows and number of columns\n",
    "haber.shape"
   ]
  },
  {
   "cell_type": "code",
   "execution_count": 85,
   "metadata": {},
   "outputs": [
    {
     "data": {
      "text/plain": [
       "Index(['age', 'year', 'nodes', 'status'], dtype='object')"
      ]
     },
     "execution_count": 85,
     "metadata": {},
     "output_type": "execute_result"
    }
   ],
   "source": [
    "#printing the columns\n",
    "haber.columns"
   ]
  },
  {
   "cell_type": "code",
   "execution_count": 86,
   "metadata": {},
   "outputs": [
    {
     "name": "stdout",
     "output_type": "stream",
     "text": [
      "<class 'pandas.core.frame.DataFrame'>\n",
      "RangeIndex: 306 entries, 0 to 305\n",
      "Data columns (total 4 columns):\n",
      "age       306 non-null int64\n",
      "year      306 non-null int64\n",
      "nodes     306 non-null int64\n",
      "status    306 non-null int64\n",
      "dtypes: int64(4)\n",
      "memory usage: 9.7 KB\n",
      "None\n"
     ]
    }
   ],
   "source": [
    "print(haber.info())\n",
    "#brief info about the dataset"
   ]
  },
  {
   "cell_type": "markdown",
   "metadata": {},
   "source": [
    "### Quali osservazioni possiamo concludere?\n",
    "\n",
    "1. Ci sono valori NA/NULL \n",
    "2. Che tipologia di dati sono le colonne\n",
    "3. Cosa vuole dire la variable **status**?"
   ]
  },
  {
   "cell_type": "markdown",
   "metadata": {},
   "source": [
    "#### Che cosa fa il seguente codice?"
   ]
  },
  {
   "cell_type": "code",
   "execution_count": 87,
   "metadata": {},
   "outputs": [
    {
     "data": {
      "text/html": [
       "<div>\n",
       "<style scoped>\n",
       "    .dataframe tbody tr th:only-of-type {\n",
       "        vertical-align: middle;\n",
       "    }\n",
       "\n",
       "    .dataframe tbody tr th {\n",
       "        vertical-align: top;\n",
       "    }\n",
       "\n",
       "    .dataframe thead th {\n",
       "        text-align: right;\n",
       "    }\n",
       "</style>\n",
       "<table border=\"1\" class=\"dataframe\">\n",
       "  <thead>\n",
       "    <tr style=\"text-align: right;\">\n",
       "      <th></th>\n",
       "      <th>age</th>\n",
       "      <th>year</th>\n",
       "      <th>nodes</th>\n",
       "      <th>status</th>\n",
       "    </tr>\n",
       "  </thead>\n",
       "  <tbody>\n",
       "    <tr>\n",
       "      <th>0</th>\n",
       "      <td>30</td>\n",
       "      <td>64</td>\n",
       "      <td>1</td>\n",
       "      <td>Yes</td>\n",
       "    </tr>\n",
       "    <tr>\n",
       "      <th>1</th>\n",
       "      <td>30</td>\n",
       "      <td>62</td>\n",
       "      <td>3</td>\n",
       "      <td>Yes</td>\n",
       "    </tr>\n",
       "    <tr>\n",
       "      <th>2</th>\n",
       "      <td>30</td>\n",
       "      <td>65</td>\n",
       "      <td>0</td>\n",
       "      <td>Yes</td>\n",
       "    </tr>\n",
       "    <tr>\n",
       "      <th>3</th>\n",
       "      <td>31</td>\n",
       "      <td>59</td>\n",
       "      <td>2</td>\n",
       "      <td>Yes</td>\n",
       "    </tr>\n",
       "    <tr>\n",
       "      <th>4</th>\n",
       "      <td>31</td>\n",
       "      <td>65</td>\n",
       "      <td>4</td>\n",
       "      <td>Yes</td>\n",
       "    </tr>\n",
       "  </tbody>\n",
       "</table>\n",
       "</div>"
      ],
      "text/plain": [
       "   age  year  nodes status\n",
       "0   30    64      1    Yes\n",
       "1   30    62      3    Yes\n",
       "2   30    65      0    Yes\n",
       "3   31    59      2    Yes\n",
       "4   31    65      4    Yes"
      ]
     },
     "execution_count": 87,
     "metadata": {},
     "output_type": "execute_result"
    }
   ],
   "source": [
    "haber['status'] = haber['status'].map({1:\"Yes\", 2:\"No\"})\n",
    "haber.head() \n"
   ]
  },
  {
   "cell_type": "code",
   "execution_count": 88,
   "metadata": {},
   "outputs": [
    {
     "data": {
      "text/html": [
       "<div>\n",
       "<style scoped>\n",
       "    .dataframe tbody tr th:only-of-type {\n",
       "        vertical-align: middle;\n",
       "    }\n",
       "\n",
       "    .dataframe tbody tr th {\n",
       "        vertical-align: top;\n",
       "    }\n",
       "\n",
       "    .dataframe thead th {\n",
       "        text-align: right;\n",
       "    }\n",
       "</style>\n",
       "<table border=\"1\" class=\"dataframe\">\n",
       "  <thead>\n",
       "    <tr style=\"text-align: right;\">\n",
       "      <th></th>\n",
       "      <th>age</th>\n",
       "      <th>year</th>\n",
       "      <th>nodes</th>\n",
       "    </tr>\n",
       "  </thead>\n",
       "  <tbody>\n",
       "    <tr>\n",
       "      <th>count</th>\n",
       "      <td>306.000000</td>\n",
       "      <td>306.000000</td>\n",
       "      <td>306.000000</td>\n",
       "    </tr>\n",
       "    <tr>\n",
       "      <th>mean</th>\n",
       "      <td>52.457516</td>\n",
       "      <td>62.852941</td>\n",
       "      <td>4.026144</td>\n",
       "    </tr>\n",
       "    <tr>\n",
       "      <th>std</th>\n",
       "      <td>10.803452</td>\n",
       "      <td>3.249405</td>\n",
       "      <td>7.189654</td>\n",
       "    </tr>\n",
       "    <tr>\n",
       "      <th>min</th>\n",
       "      <td>30.000000</td>\n",
       "      <td>58.000000</td>\n",
       "      <td>0.000000</td>\n",
       "    </tr>\n",
       "    <tr>\n",
       "      <th>25%</th>\n",
       "      <td>44.000000</td>\n",
       "      <td>60.000000</td>\n",
       "      <td>0.000000</td>\n",
       "    </tr>\n",
       "    <tr>\n",
       "      <th>50%</th>\n",
       "      <td>52.000000</td>\n",
       "      <td>63.000000</td>\n",
       "      <td>1.000000</td>\n",
       "    </tr>\n",
       "    <tr>\n",
       "      <th>75%</th>\n",
       "      <td>60.750000</td>\n",
       "      <td>65.750000</td>\n",
       "      <td>4.000000</td>\n",
       "    </tr>\n",
       "    <tr>\n",
       "      <th>max</th>\n",
       "      <td>83.000000</td>\n",
       "      <td>69.000000</td>\n",
       "      <td>52.000000</td>\n",
       "    </tr>\n",
       "  </tbody>\n",
       "</table>\n",
       "</div>"
      ],
      "text/plain": [
       "              age        year       nodes\n",
       "count  306.000000  306.000000  306.000000\n",
       "mean    52.457516   62.852941    4.026144\n",
       "std     10.803452    3.249405    7.189654\n",
       "min     30.000000   58.000000    0.000000\n",
       "25%     44.000000   60.000000    0.000000\n",
       "50%     52.000000   63.000000    1.000000\n",
       "75%     60.750000   65.750000    4.000000\n",
       "max     83.000000   69.000000   52.000000"
      ]
     },
     "execution_count": 88,
     "metadata": {},
     "output_type": "execute_result"
    }
   ],
   "source": [
    "haber.describe()\n",
    "#describes the dataset\n"
   ]
  },
  {
   "cell_type": "markdown",
   "metadata": {},
   "source": [
    "**Count** : Numero totale di valori presenti nelle rispettive colonne. <br/>\n",
    "**Media**: Media di tutti i valori presenti nelle rispettive colonne. <br/>\n",
    "**Std**: Deviazione standard dei valori presenti nelle rispettive colonne. <br/>\n",
    "**Min**: Il valore minimo presente nella colonna. <br/>\n",
    "**25%**: Dà il valore del 25° percentile. <br/>\n",
    "**50%**: Dà il valore del 50° percentile. <br/>\n",
    "**75%**: Dà il valore del 75° percentile. <br/>\n",
    "**Max**: dà il valore massimo nella colonna.<br/>"
   ]
  },
  {
   "cell_type": "code",
   "execution_count": 89,
   "metadata": {},
   "outputs": [
    {
     "data": {
      "text/plain": [
       "Yes    225\n",
       "No      81\n",
       "Name: status, dtype: int64"
      ]
     },
     "execution_count": 89,
     "metadata": {},
     "output_type": "execute_result"
    }
   ],
   "source": [
    "haber['status'].value_counts()\n",
    "#gives each count of the status type"
   ]
  },
  {
   "cell_type": "markdown",
   "metadata": {},
   "source": [
    "### Cosa vuole dire 225 Yes e 81 No?"
   ]
  },
  {
   "cell_type": "code",
   "execution_count": 90,
   "metadata": {},
   "outputs": [
    {
     "data": {
      "text/html": [
       "<div>\n",
       "<style scoped>\n",
       "    .dataframe tbody tr th:only-of-type {\n",
       "        vertical-align: middle;\n",
       "    }\n",
       "\n",
       "    .dataframe tbody tr th {\n",
       "        vertical-align: top;\n",
       "    }\n",
       "\n",
       "    .dataframe thead th {\n",
       "        text-align: right;\n",
       "    }\n",
       "</style>\n",
       "<table border=\"1\" class=\"dataframe\">\n",
       "  <thead>\n",
       "    <tr style=\"text-align: right;\">\n",
       "      <th></th>\n",
       "      <th>age</th>\n",
       "      <th>year</th>\n",
       "      <th>nodes</th>\n",
       "    </tr>\n",
       "  </thead>\n",
       "  <tbody>\n",
       "    <tr>\n",
       "      <th>count</th>\n",
       "      <td>225.000000</td>\n",
       "      <td>225.000000</td>\n",
       "      <td>225.000000</td>\n",
       "    </tr>\n",
       "    <tr>\n",
       "      <th>mean</th>\n",
       "      <td>52.017778</td>\n",
       "      <td>62.862222</td>\n",
       "      <td>2.791111</td>\n",
       "    </tr>\n",
       "    <tr>\n",
       "      <th>std</th>\n",
       "      <td>11.012154</td>\n",
       "      <td>3.222915</td>\n",
       "      <td>5.870318</td>\n",
       "    </tr>\n",
       "    <tr>\n",
       "      <th>min</th>\n",
       "      <td>30.000000</td>\n",
       "      <td>58.000000</td>\n",
       "      <td>0.000000</td>\n",
       "    </tr>\n",
       "    <tr>\n",
       "      <th>25%</th>\n",
       "      <td>43.000000</td>\n",
       "      <td>60.000000</td>\n",
       "      <td>0.000000</td>\n",
       "    </tr>\n",
       "    <tr>\n",
       "      <th>50%</th>\n",
       "      <td>52.000000</td>\n",
       "      <td>63.000000</td>\n",
       "      <td>0.000000</td>\n",
       "    </tr>\n",
       "    <tr>\n",
       "      <th>75%</th>\n",
       "      <td>60.000000</td>\n",
       "      <td>66.000000</td>\n",
       "      <td>3.000000</td>\n",
       "    </tr>\n",
       "    <tr>\n",
       "      <th>max</th>\n",
       "      <td>77.000000</td>\n",
       "      <td>69.000000</td>\n",
       "      <td>46.000000</td>\n",
       "    </tr>\n",
       "  </tbody>\n",
       "</table>\n",
       "</div>"
      ],
      "text/plain": [
       "              age        year       nodes\n",
       "count  225.000000  225.000000  225.000000\n",
       "mean    52.017778   62.862222    2.791111\n",
       "std     11.012154    3.222915    5.870318\n",
       "min     30.000000   58.000000    0.000000\n",
       "25%     43.000000   60.000000    0.000000\n",
       "50%     52.000000   63.000000    0.000000\n",
       "75%     60.000000   66.000000    3.000000\n",
       "max     77.000000   69.000000   46.000000"
      ]
     },
     "execution_count": 90,
     "metadata": {},
     "output_type": "execute_result"
    }
   ],
   "source": [
    "status_yes = haber[haber['status']=='Yes']\n",
    "status_yes.describe()\n",
    "#status_yes dataframe stores all the records where status is yes"
   ]
  },
  {
   "cell_type": "code",
   "execution_count": 91,
   "metadata": {},
   "outputs": [
    {
     "data": {
      "text/html": [
       "<div>\n",
       "<style scoped>\n",
       "    .dataframe tbody tr th:only-of-type {\n",
       "        vertical-align: middle;\n",
       "    }\n",
       "\n",
       "    .dataframe tbody tr th {\n",
       "        vertical-align: top;\n",
       "    }\n",
       "\n",
       "    .dataframe thead th {\n",
       "        text-align: right;\n",
       "    }\n",
       "</style>\n",
       "<table border=\"1\" class=\"dataframe\">\n",
       "  <thead>\n",
       "    <tr style=\"text-align: right;\">\n",
       "      <th></th>\n",
       "      <th>age</th>\n",
       "      <th>year</th>\n",
       "      <th>nodes</th>\n",
       "    </tr>\n",
       "  </thead>\n",
       "  <tbody>\n",
       "    <tr>\n",
       "      <th>count</th>\n",
       "      <td>81.000000</td>\n",
       "      <td>81.000000</td>\n",
       "      <td>81.000000</td>\n",
       "    </tr>\n",
       "    <tr>\n",
       "      <th>mean</th>\n",
       "      <td>53.679012</td>\n",
       "      <td>62.827160</td>\n",
       "      <td>7.456790</td>\n",
       "    </tr>\n",
       "    <tr>\n",
       "      <th>std</th>\n",
       "      <td>10.167137</td>\n",
       "      <td>3.342118</td>\n",
       "      <td>9.185654</td>\n",
       "    </tr>\n",
       "    <tr>\n",
       "      <th>min</th>\n",
       "      <td>34.000000</td>\n",
       "      <td>58.000000</td>\n",
       "      <td>0.000000</td>\n",
       "    </tr>\n",
       "    <tr>\n",
       "      <th>25%</th>\n",
       "      <td>46.000000</td>\n",
       "      <td>59.000000</td>\n",
       "      <td>1.000000</td>\n",
       "    </tr>\n",
       "    <tr>\n",
       "      <th>50%</th>\n",
       "      <td>53.000000</td>\n",
       "      <td>63.000000</td>\n",
       "      <td>4.000000</td>\n",
       "    </tr>\n",
       "    <tr>\n",
       "      <th>75%</th>\n",
       "      <td>61.000000</td>\n",
       "      <td>65.000000</td>\n",
       "      <td>11.000000</td>\n",
       "    </tr>\n",
       "    <tr>\n",
       "      <th>max</th>\n",
       "      <td>83.000000</td>\n",
       "      <td>69.000000</td>\n",
       "      <td>52.000000</td>\n",
       "    </tr>\n",
       "  </tbody>\n",
       "</table>\n",
       "</div>"
      ],
      "text/plain": [
       "             age       year      nodes\n",
       "count  81.000000  81.000000  81.000000\n",
       "mean   53.679012  62.827160   7.456790\n",
       "std    10.167137   3.342118   9.185654\n",
       "min    34.000000  58.000000   0.000000\n",
       "25%    46.000000  59.000000   1.000000\n",
       "50%    53.000000  63.000000   4.000000\n",
       "75%    61.000000  65.000000  11.000000\n",
       "max    83.000000  69.000000  52.000000"
      ]
     },
     "execution_count": 91,
     "metadata": {},
     "output_type": "execute_result"
    }
   ],
   "source": [
    "status_no = haber[haber['status']=='No']\n",
    "status_no.describe()\n",
    "#status_no dataframe stores all the records where status is no"
   ]
  },
  {
   "cell_type": "markdown",
   "metadata": {},
   "source": [
    "### Quali conclusioni puoi trarre da queste due tabelle?"
   ]
  },
  {
   "cell_type": "markdown",
   "metadata": {},
   "source": [
    "## Parte 4: Analisi univariata\n",
    "\n",
    "Lo scopo principale dell'analisi univariata è quello di descrivere, riassumere e trovare i modelli nella singola caratteristica."
   ]
  },
  {
   "cell_type": "markdown",
   "metadata": {},
   "source": [
    "#### Probability Density Function \n",
    "\n",
    "Probability Density Function (PDF) è la probabilità che la variabile prenda un valore x. (una versione smussata dell'istogramma)\n",
    "\n",
    "Qui l'altezza della barra indica la percentuale di punti dati sotto il gruppo corrispondente"
   ]
  },
  {
   "cell_type": "code",
   "execution_count": 92,
   "metadata": {},
   "outputs": [
    {
     "data": {
      "image/png": "[encoded data removed]",
      "text/plain": [
       "<Figure size 413.25x360 with 1 Axes>"
      ]
     },
     "metadata": {},
     "output_type": "display_data"
    }
   ],
   "source": [
    "sns.FacetGrid(haber,hue='status',height = 5)\\\n",
    " .map(sns.distplot,'age')\\\n",
    " . add_legend();\n",
    "plt.show()"
   ]
  },
  {
   "cell_type": "markdown",
   "metadata": {},
   "source": [
    "#### Che cosa si può osservare da questo grafico? \n",
    "1. Che cosa vuole rappresentano le sovrapposizioni dei grafici? <br/>\n",
    "2. Ci sono differenze tra i diversi gruppi d'età? <br/>\n"
   ]
  },
  {
   "cell_type": "code",
   "execution_count": 93,
   "metadata": {},
   "outputs": [],
   "source": [
    "# aggiungi qui il codice necessario per genere un grafico simile a quello di sopra ma con 'year' sull'asse delle X"
   ]
  },
  {
   "cell_type": "code",
   "execution_count": 94,
   "metadata": {},
   "outputs": [],
   "source": [
    "# aggiungi qui il codice necessario per genere un grafico simile a quello di sopra ma con 'nodes' sull'asse delle X"
   ]
  },
  {
   "cell_type": "code",
   "execution_count": 95,
   "metadata": {},
   "outputs": [
    {
     "data": {
      "image/png": "[encoded data removed]",
      "text/plain": [
       "<Figure size 432x288 with 1 Axes>"
      ]
     },
     "metadata": {},
     "output_type": "display_data"
    }
   ],
   "source": [
    "sns.boxplot(x='status',y='age',data=haber)\n",
    "plt.show()\n",
    "# aggiungi due boxplot, entrambi con la X = 'status' ma la Y = 'year' e 'nodes' "
   ]
  },
  {
   "cell_type": "code",
   "execution_count": 96,
   "metadata": {},
   "outputs": [],
   "source": [
    "# come fai a disegnare un **violinplot* al posto del boxplot? \n",
    "#(x='status',y='age',data = haber,height = 10)\n",
    "plt.show()\n",
    "#(x='status',y='year',data = haber,height = 10)\n",
    "plt.show()\n",
    "#(x='status',y='nodes',data = haber,height = 10)\n",
    "plt.show()"
   ]
  },
  {
   "cell_type": "markdown",
   "metadata": {},
   "source": [
    "## Parte 5: Analisi bi-variata\n",
    "\n",
    "### Scatter plot / Diagramma di dispersione \n",
    "\n",
    "Un **diagramma di dispersione** è una visualizzazione bidimensionale dei dati che utilizza dei punti per rappresentare i valori ottenuti per due diverse variabili - una tracciata lungo l'asse delle x e l'altra tracciata lungo l'asse delle y."
   ]
  },
  {
   "cell_type": "code",
   "execution_count": 97,
   "metadata": {},
   "outputs": [
    {
     "data": {
      "image/png": "[encoded data removed]",
      "text/plain": [
       "<Figure size 485.25x432 with 1 Axes>"
      ]
     },
     "metadata": {},
     "output_type": "display_data"
    }
   ],
   "source": [
    "sns.set_style('whitegrid')\n",
    "sns.FacetGrid(haber, hue = 'status' , height = 6)\\\n",
    " .map(plt.scatter,'age','year')\\\n",
    " .add_legend()\n",
    "plt.show()"
   ]
  },
  {
   "cell_type": "markdown",
   "metadata": {},
   "source": [
    "#### Quali conclusione potete formulare guardando a questo grafico?"
   ]
  },
  {
   "cell_type": "markdown",
   "metadata": {},
   "source": [
    "### Pair Plots"
   ]
  },
  {
   "cell_type": "code",
   "execution_count": 98,
   "metadata": {},
   "outputs": [
    {
     "ename": "TypeError",
     "evalue": "pairplot() missing 1 required positional argument: 'data'",
     "output_type": "error",
     "traceback": [
      "\u001b[0;31m---------------------------------------------------------------------------\u001b[0m",
      "\u001b[0;31mTypeError\u001b[0m                                 Traceback (most recent call last)",
      "\u001b[0;32m<ipython-input-98-8fb6ea034675>\u001b[0m in \u001b[0;36m<module>\u001b[0;34m\u001b[0m\n\u001b[1;32m      1\u001b[0m \u001b[0;31m# completa il codice\u001b[0m\u001b[0;34m\u001b[0m\u001b[0;34m\u001b[0m\u001b[0;34m\u001b[0m\u001b[0m\n\u001b[1;32m      2\u001b[0m \u001b[0msns\u001b[0m\u001b[0;34m.\u001b[0m\u001b[0mset_style\u001b[0m\u001b[0;34m(\u001b[0m\u001b[0;34m)\u001b[0m\u001b[0;34m\u001b[0m\u001b[0;34m\u001b[0m\u001b[0m\n\u001b[0;32m----> 3\u001b[0;31m \u001b[0msns\u001b[0m\u001b[0;34m.\u001b[0m\u001b[0mpairplot\u001b[0m\u001b[0;34m(\u001b[0m \u001b[0mheight\u001b[0m \u001b[0;34m=\u001b[0m \u001b[0;36m5\u001b[0m\u001b[0;34m)\u001b[0m\u001b[0;34m\u001b[0m\u001b[0;34m\u001b[0m\u001b[0m\n\u001b[0m\u001b[1;32m      4\u001b[0m \u001b[0mplt\u001b[0m\u001b[0;34m.\u001b[0m\u001b[0mshow\u001b[0m\u001b[0;34m(\u001b[0m\u001b[0;34m)\u001b[0m\u001b[0;34m\u001b[0m\u001b[0;34m\u001b[0m\u001b[0m\n",
      "\u001b[0;31mTypeError\u001b[0m: pairplot() missing 1 required positional argument: 'data'"
     ]
    }
   ],
   "source": [
    "# completa il codice  \n",
    "sns.set_style()\n",
    "sns.pairplot( height = 5)\n",
    "plt.show()"
   ]
  },
  {
   "cell_type": "markdown",
   "metadata": {},
   "source": [
    "# Congratulazioni hai finito il tuo primo EDA!!!"
   ]
  },
  {
   "cell_type": "markdown",
   "metadata": {},
   "source": []
  }
 ],
 "metadata": {
  "kernelspec": {
   "display_name": "Python 3",
   "language": "python",
   "name": "python3"
  },
  "language_info": {
   "codemirror_mode": {
    "name": "ipython",
    "version": 3
   },
   "file_extension": ".py",
   "mimetype": "text/x-python",
   "name": "python",
   "nbconvert_exporter": "python",
   "pygments_lexer": "ipython3",
   "version": "3.7.4"
  }
 },
 "nbformat": 4,
 "nbformat_minor": 4
}
